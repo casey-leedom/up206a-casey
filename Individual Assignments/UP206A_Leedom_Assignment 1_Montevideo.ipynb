{
 "cells": [
  {
   "cell_type": "code",
   "execution_count": null,
   "metadata": {},
   "outputs": [],
   "source": [
    "# Week 2: Individual Assignment 1\n",
    "# up206a\n",
    "# Casey Leedom\n",
    "# 01.19.2021\n",
    "\n",
    "# Assignment: Import dataset into python notebook, and run commands on\n",
    "# data set to determine the number of rows and columns, the types of\n",
    "# variables in the dataset, sample rows from the dataset, and \n",
    "# information on the counts for select data. Run a query on the data\n",
    "# and plot the information (a map for this case)\n",
    "\n",
    "# Data is for Montevideo, Uruguay and includes geometry for polygons\n",
    "# of cadastral units in the city"
   ]
  },
  {
   "cell_type": "code",
   "execution_count": 2,
   "metadata": {},
   "outputs": [],
   "source": [
    "# Import the geopandas module \n",
    "import geopandas as gpd"
   ]
  },
  {
   "cell_type": "code",
   "execution_count": 3,
   "metadata": {},
   "outputs": [],
   "source": [
    "# Read the data file and store as the variable \"manzanas\"\n",
    "# Data file has geocoordinates for polygons for cadastral units \n",
    "# in Montevideo, Uruguay\n",
    "manzanas = gpd.read_file('Data/v_mdg_manzanas.shp')"
   ]
  },
  {
   "cell_type": "code",
   "execution_count": 4,
   "metadata": {},
   "outputs": [
    {
     "name": "stdout",
     "output_type": "stream",
     "text": [
      "<class 'geopandas.geodataframe.GeoDataFrame'>\n",
      "RangeIndex: 9152 entries, 0 to 9151\n",
      "Data columns (total 3 columns):\n",
      " #   Column      Non-Null Count  Dtype   \n",
      "---  ------      --------------  -----   \n",
      " 0   GID         9152 non-null   float64 \n",
      " 1   CARPETA_CA  9152 non-null   float64 \n",
      " 2   geometry    9152 non-null   geometry\n",
      "dtypes: float64(2), geometry(1)\n",
      "memory usage: 214.6 KB\n"
     ]
    }
   ],
   "source": [
    "# Learn information about dataset \n",
    "manzanas.info()"
   ]
  },
  {
   "cell_type": "code",
   "execution_count": 5,
   "metadata": {},
   "outputs": [
    {
     "data": {
      "text/plain": [
       "(9152, 3)"
      ]
     },
     "execution_count": 5,
     "metadata": {},
     "output_type": "execute_result"
    }
   ],
   "source": [
    "#Determine number of rows and columns in dataset\n",
    "manzanas.shape"
   ]
  },
  {
   "cell_type": "code",
   "execution_count": 6,
   "metadata": {},
   "outputs": [
    {
     "data": {
      "text/html": [
       "<div>\n",
       "<style scoped>\n",
       "    .dataframe tbody tr th:only-of-type {\n",
       "        vertical-align: middle;\n",
       "    }\n",
       "\n",
       "    .dataframe tbody tr th {\n",
       "        vertical-align: top;\n",
       "    }\n",
       "\n",
       "    .dataframe thead th {\n",
       "        text-align: right;\n",
       "    }\n",
       "</style>\n",
       "<table border=\"1\" class=\"dataframe\">\n",
       "  <thead>\n",
       "    <tr style=\"text-align: right;\">\n",
       "      <th></th>\n",
       "      <th>GID</th>\n",
       "      <th>CARPETA_CA</th>\n",
       "      <th>geometry</th>\n",
       "    </tr>\n",
       "  </thead>\n",
       "  <tbody>\n",
       "    <tr>\n",
       "      <th>7492</th>\n",
       "      <td>49074531.0</td>\n",
       "      <td>7555.0</td>\n",
       "      <td>POLYGON ((579897.161 6139728.909, 579896.276 6...</td>\n",
       "    </tr>\n",
       "  </tbody>\n",
       "</table>\n",
       "</div>"
      ],
      "text/plain": [
       "             GID  CARPETA_CA  \\\n",
       "7492  49074531.0      7555.0   \n",
       "\n",
       "                                               geometry  \n",
       "7492  POLYGON ((579897.161 6139728.909, 579896.276 6...  "
      ]
     },
     "execution_count": 6,
     "metadata": {},
     "output_type": "execute_result"
    }
   ],
   "source": [
    "# Print a sample line from the dataset\n",
    "manzanas.sample()"
   ]
  },
  {
   "cell_type": "code",
   "execution_count": 7,
   "metadata": {},
   "outputs": [
    {
     "data": {
      "text/html": [
       "<div>\n",
       "<style scoped>\n",
       "    .dataframe tbody tr th:only-of-type {\n",
       "        vertical-align: middle;\n",
       "    }\n",
       "\n",
       "    .dataframe tbody tr th {\n",
       "        vertical-align: top;\n",
       "    }\n",
       "\n",
       "    .dataframe thead th {\n",
       "        text-align: right;\n",
       "    }\n",
       "</style>\n",
       "<table border=\"1\" class=\"dataframe\">\n",
       "  <thead>\n",
       "    <tr style=\"text-align: right;\">\n",
       "      <th></th>\n",
       "      <th>GID</th>\n",
       "      <th>CARPETA_CA</th>\n",
       "      <th>geometry</th>\n",
       "    </tr>\n",
       "  </thead>\n",
       "  <tbody>\n",
       "    <tr>\n",
       "      <th>0</th>\n",
       "      <td>49067039.0</td>\n",
       "      <td>1.0</td>\n",
       "      <td>POLYGON ((571838.100 6136619.387, 571583.336 6...</td>\n",
       "    </tr>\n",
       "    <tr>\n",
       "      <th>1</th>\n",
       "      <td>49067040.0</td>\n",
       "      <td>1.0</td>\n",
       "      <td>POLYGON ((573539.252 6138337.971, 573572.090 6...</td>\n",
       "    </tr>\n",
       "    <tr>\n",
       "      <th>2</th>\n",
       "      <td>49067041.0</td>\n",
       "      <td>2.0</td>\n",
       "      <td>POLYGON ((571784.910 6136970.494, 571737.795 6...</td>\n",
       "    </tr>\n",
       "    <tr>\n",
       "      <th>3</th>\n",
       "      <td>49067042.0</td>\n",
       "      <td>3.0</td>\n",
       "      <td>POLYGON ((571838.175 6136829.008, 571787.290 6...</td>\n",
       "    </tr>\n",
       "    <tr>\n",
       "      <th>4</th>\n",
       "      <td>49067043.0</td>\n",
       "      <td>7.0</td>\n",
       "      <td>POLYGON ((571817.278 6136982.990, 571796.760 6...</td>\n",
       "    </tr>\n",
       "  </tbody>\n",
       "</table>\n",
       "</div>"
      ],
      "text/plain": [
       "          GID  CARPETA_CA                                           geometry\n",
       "0  49067039.0         1.0  POLYGON ((571838.100 6136619.387, 571583.336 6...\n",
       "1  49067040.0         1.0  POLYGON ((573539.252 6138337.971, 573572.090 6...\n",
       "2  49067041.0         2.0  POLYGON ((571784.910 6136970.494, 571737.795 6...\n",
       "3  49067042.0         3.0  POLYGON ((571838.175 6136829.008, 571787.290 6...\n",
       "4  49067043.0         7.0  POLYGON ((571817.278 6136982.990, 571796.760 6..."
      ]
     },
     "execution_count": 7,
     "metadata": {},
     "output_type": "execute_result"
    }
   ],
   "source": [
    "# Show first five rows of data\n",
    "manzanas.head()"
   ]
  },
  {
   "cell_type": "code",
   "execution_count": 8,
   "metadata": {},
   "outputs": [
    {
     "data": {
      "text/html": [
       "<div>\n",
       "<style scoped>\n",
       "    .dataframe tbody tr th:only-of-type {\n",
       "        vertical-align: middle;\n",
       "    }\n",
       "\n",
       "    .dataframe tbody tr th {\n",
       "        vertical-align: top;\n",
       "    }\n",
       "\n",
       "    .dataframe thead th {\n",
       "        text-align: right;\n",
       "    }\n",
       "</style>\n",
       "<table border=\"1\" class=\"dataframe\">\n",
       "  <thead>\n",
       "    <tr style=\"text-align: right;\">\n",
       "      <th></th>\n",
       "      <th>GID</th>\n",
       "      <th>CARPETA_CA</th>\n",
       "      <th>geometry</th>\n",
       "    </tr>\n",
       "  </thead>\n",
       "  <tbody>\n",
       "    <tr>\n",
       "      <th>9147</th>\n",
       "      <td>49076186.0</td>\n",
       "      <td>9265.0</td>\n",
       "      <td>POLYGON ((572656.307 6147269.375, 572654.616 6...</td>\n",
       "    </tr>\n",
       "    <tr>\n",
       "      <th>9148</th>\n",
       "      <td>49076187.0</td>\n",
       "      <td>9266.0</td>\n",
       "      <td>POLYGON ((572594.290 6147189.018, 572592.701 6...</td>\n",
       "    </tr>\n",
       "    <tr>\n",
       "      <th>9149</th>\n",
       "      <td>49076188.0</td>\n",
       "      <td>9267.0</td>\n",
       "      <td>POLYGON ((572537.017 6147112.571, 572535.292 6...</td>\n",
       "    </tr>\n",
       "    <tr>\n",
       "      <th>9150</th>\n",
       "      <td>49076189.0</td>\n",
       "      <td>9268.0</td>\n",
       "      <td>POLYGON ((572680.708 6147003.507, 572679.042 6...</td>\n",
       "    </tr>\n",
       "    <tr>\n",
       "      <th>9151</th>\n",
       "      <td>49076190.0</td>\n",
       "      <td>9269.0</td>\n",
       "      <td>POLYGON ((572724.009 6147318.788, 572744.081 6...</td>\n",
       "    </tr>\n",
       "  </tbody>\n",
       "</table>\n",
       "</div>"
      ],
      "text/plain": [
       "             GID  CARPETA_CA  \\\n",
       "9147  49076186.0      9265.0   \n",
       "9148  49076187.0      9266.0   \n",
       "9149  49076188.0      9267.0   \n",
       "9150  49076189.0      9268.0   \n",
       "9151  49076190.0      9269.0   \n",
       "\n",
       "                                               geometry  \n",
       "9147  POLYGON ((572656.307 6147269.375, 572654.616 6...  \n",
       "9148  POLYGON ((572594.290 6147189.018, 572592.701 6...  \n",
       "9149  POLYGON ((572537.017 6147112.571, 572535.292 6...  \n",
       "9150  POLYGON ((572680.708 6147003.507, 572679.042 6...  \n",
       "9151  POLYGON ((572724.009 6147318.788, 572744.081 6...  "
      ]
     },
     "execution_count": 8,
     "metadata": {},
     "output_type": "execute_result"
    }
   ],
   "source": [
    "# Show last five rows of data\n",
    "manzanas.tail()"
   ]
  },
  {
   "cell_type": "code",
   "execution_count": 6,
   "metadata": {},
   "outputs": [
    {
     "data": {
      "text/plain": [
       "0       POLYGON ((571838.100 6136619.387, 571583.336 6...\n",
       "1       POLYGON ((573539.252 6138337.971, 573572.090 6...\n",
       "2       POLYGON ((571784.910 6136970.494, 571737.795 6...\n",
       "3       POLYGON ((571838.175 6136829.008, 571787.290 6...\n",
       "4       POLYGON ((571817.278 6136982.990, 571796.760 6...\n",
       "                              ...                        \n",
       "9147    POLYGON ((572656.307 6147269.375, 572654.616 6...\n",
       "9148    POLYGON ((572594.290 6147189.018, 572592.701 6...\n",
       "9149    POLYGON ((572537.017 6147112.571, 572535.292 6...\n",
       "9150    POLYGON ((572680.708 6147003.507, 572679.042 6...\n",
       "9151    POLYGON ((572724.009 6147318.788, 572744.081 6...\n",
       "Name: geometry, Length: 9152, dtype: geometry"
      ]
     },
     "execution_count": 6,
     "metadata": {},
     "output_type": "execute_result"
    }
   ],
   "source": [
    "# Take a closer look at one column of dataset, called \"geometry\"\n",
    "manzanas['geometry']"
   ]
  },
  {
   "cell_type": "code",
   "execution_count": 7,
   "metadata": {},
   "outputs": [
    {
     "data": {
      "text/plain": [
       "0    POLYGON ((571838.100 6136619.387, 571583.336 6...\n",
       "Name: geometry, dtype: geometry"
      ]
     },
     "execution_count": 7,
     "metadata": {},
     "output_type": "execute_result"
    }
   ],
   "source": [
    "# Print first row of column \"geometry\"\n",
    "manzanas['geometry'].head(1)"
   ]
  },
  {
   "cell_type": "code",
   "execution_count": 10,
   "metadata": {},
   "outputs": [
    {
     "data": {
      "text/plain": [
       "4998.0    18\n",
       "6393.0    14\n",
       "9249.0     8\n",
       "9127.0     8\n",
       "4151.0     8\n",
       "          ..\n",
       "5822.0     1\n",
       "6658.0     1\n",
       "7830.0     1\n",
       "4235.0     1\n",
       "59.0       1\n",
       "Name: CARPETA_CA, Length: 8535, dtype: int64"
      ]
     },
     "execution_count": 10,
     "metadata": {},
     "output_type": "execute_result"
    }
   ],
   "source": [
    "# Print value counts for column \"CARPETA_CA\"\n",
    "manzanas['CARPETA_CA'].value_counts()"
   ]
  },
  {
   "cell_type": "code",
   "execution_count": 14,
   "metadata": {
    "scrolled": true
   },
   "outputs": [
    {
     "data": {
      "text/html": [
       "<div>\n",
       "<style scoped>\n",
       "    .dataframe tbody tr th:only-of-type {\n",
       "        vertical-align: middle;\n",
       "    }\n",
       "\n",
       "    .dataframe tbody tr th {\n",
       "        vertical-align: top;\n",
       "    }\n",
       "\n",
       "    .dataframe thead th {\n",
       "        text-align: right;\n",
       "    }\n",
       "</style>\n",
       "<table border=\"1\" class=\"dataframe\">\n",
       "  <thead>\n",
       "    <tr style=\"text-align: right;\">\n",
       "      <th></th>\n",
       "      <th>GID</th>\n",
       "      <th>CARPETA_CA</th>\n",
       "      <th>geometry</th>\n",
       "    </tr>\n",
       "  </thead>\n",
       "  <tbody>\n",
       "    <tr>\n",
       "      <th>4918</th>\n",
       "      <td>49071957.0</td>\n",
       "      <td>4998.0</td>\n",
       "      <td>POLYGON ((581122.004 6143348.737, 581121.480 6...</td>\n",
       "    </tr>\n",
       "    <tr>\n",
       "      <th>4919</th>\n",
       "      <td>49071958.0</td>\n",
       "      <td>4998.0</td>\n",
       "      <td>POLYGON ((581064.813 6143419.810, 581059.082 6...</td>\n",
       "    </tr>\n",
       "    <tr>\n",
       "      <th>4920</th>\n",
       "      <td>49071959.0</td>\n",
       "      <td>4998.0</td>\n",
       "      <td>POLYGON ((581356.152 6143830.332, 581332.643 6...</td>\n",
       "    </tr>\n",
       "    <tr>\n",
       "      <th>4921</th>\n",
       "      <td>49071960.0</td>\n",
       "      <td>4998.0</td>\n",
       "      <td>POLYGON ((581226.649 6143860.191, 581204.914 6...</td>\n",
       "    </tr>\n",
       "    <tr>\n",
       "      <th>4922</th>\n",
       "      <td>49071961.0</td>\n",
       "      <td>4998.0</td>\n",
       "      <td>POLYGON ((581956.628 6143948.109, 581952.070 6...</td>\n",
       "    </tr>\n",
       "    <tr>\n",
       "      <th>4923</th>\n",
       "      <td>49071962.0</td>\n",
       "      <td>4998.0</td>\n",
       "      <td>POLYGON ((581898.526 6143969.692, 581893.968 6...</td>\n",
       "    </tr>\n",
       "    <tr>\n",
       "      <th>4924</th>\n",
       "      <td>49071963.0</td>\n",
       "      <td>4998.0</td>\n",
       "      <td>POLYGON ((581983.190 6144018.223, 581978.632 6...</td>\n",
       "    </tr>\n",
       "    <tr>\n",
       "      <th>4925</th>\n",
       "      <td>49071964.0</td>\n",
       "      <td>4998.0</td>\n",
       "      <td>POLYGON ((581925.089 6144039.806, 581920.531 6...</td>\n",
       "    </tr>\n",
       "    <tr>\n",
       "      <th>4926</th>\n",
       "      <td>49071965.0</td>\n",
       "      <td>4998.0</td>\n",
       "      <td>POLYGON ((580073.469 6144143.441, 580065.114 6...</td>\n",
       "    </tr>\n",
       "    <tr>\n",
       "      <th>4927</th>\n",
       "      <td>49071966.0</td>\n",
       "      <td>4998.0</td>\n",
       "      <td>POLYGON ((582016.836 6144107.034, 582012.278 6...</td>\n",
       "    </tr>\n",
       "    <tr>\n",
       "      <th>4928</th>\n",
       "      <td>49071967.0</td>\n",
       "      <td>4998.0</td>\n",
       "      <td>POLYGON ((581958.735 6144128.616, 581954.176 6...</td>\n",
       "    </tr>\n",
       "    <tr>\n",
       "      <th>4929</th>\n",
       "      <td>49071968.0</td>\n",
       "      <td>4998.0</td>\n",
       "      <td>POLYGON ((580316.927 6144220.583, 580290.284 6...</td>\n",
       "    </tr>\n",
       "    <tr>\n",
       "      <th>4930</th>\n",
       "      <td>49071969.0</td>\n",
       "      <td>4998.0</td>\n",
       "      <td>POLYGON ((580693.464 6144293.601, 580698.289 6...</td>\n",
       "    </tr>\n",
       "    <tr>\n",
       "      <th>4931</th>\n",
       "      <td>49071970.0</td>\n",
       "      <td>4998.0</td>\n",
       "      <td>POLYGON ((581535.632 6144631.485, 581456.885 6...</td>\n",
       "    </tr>\n",
       "    <tr>\n",
       "      <th>4932</th>\n",
       "      <td>49071971.0</td>\n",
       "      <td>4998.0</td>\n",
       "      <td>POLYGON ((581177.690 6144523.283, 581701.145 6...</td>\n",
       "    </tr>\n",
       "    <tr>\n",
       "      <th>4933</th>\n",
       "      <td>49071972.0</td>\n",
       "      <td>4998.0</td>\n",
       "      <td>POLYGON ((582828.352 6144392.194, 583712.023 6...</td>\n",
       "    </tr>\n",
       "    <tr>\n",
       "      <th>4934</th>\n",
       "      <td>49071973.0</td>\n",
       "      <td>4998.0</td>\n",
       "      <td>POLYGON ((581620.218 6144840.666, 581541.778 6...</td>\n",
       "    </tr>\n",
       "    <tr>\n",
       "      <th>4935</th>\n",
       "      <td>49071974.0</td>\n",
       "      <td>4998.0</td>\n",
       "      <td>POLYGON ((581303.506 6144880.234, 581518.336 6...</td>\n",
       "    </tr>\n",
       "  </tbody>\n",
       "</table>\n",
       "</div>"
      ],
      "text/plain": [
       "             GID  CARPETA_CA  \\\n",
       "4918  49071957.0      4998.0   \n",
       "4919  49071958.0      4998.0   \n",
       "4920  49071959.0      4998.0   \n",
       "4921  49071960.0      4998.0   \n",
       "4922  49071961.0      4998.0   \n",
       "4923  49071962.0      4998.0   \n",
       "4924  49071963.0      4998.0   \n",
       "4925  49071964.0      4998.0   \n",
       "4926  49071965.0      4998.0   \n",
       "4927  49071966.0      4998.0   \n",
       "4928  49071967.0      4998.0   \n",
       "4929  49071968.0      4998.0   \n",
       "4930  49071969.0      4998.0   \n",
       "4931  49071970.0      4998.0   \n",
       "4932  49071971.0      4998.0   \n",
       "4933  49071972.0      4998.0   \n",
       "4934  49071973.0      4998.0   \n",
       "4935  49071974.0      4998.0   \n",
       "\n",
       "                                               geometry  \n",
       "4918  POLYGON ((581122.004 6143348.737, 581121.480 6...  \n",
       "4919  POLYGON ((581064.813 6143419.810, 581059.082 6...  \n",
       "4920  POLYGON ((581356.152 6143830.332, 581332.643 6...  \n",
       "4921  POLYGON ((581226.649 6143860.191, 581204.914 6...  \n",
       "4922  POLYGON ((581956.628 6143948.109, 581952.070 6...  \n",
       "4923  POLYGON ((581898.526 6143969.692, 581893.968 6...  \n",
       "4924  POLYGON ((581983.190 6144018.223, 581978.632 6...  \n",
       "4925  POLYGON ((581925.089 6144039.806, 581920.531 6...  \n",
       "4926  POLYGON ((580073.469 6144143.441, 580065.114 6...  \n",
       "4927  POLYGON ((582016.836 6144107.034, 582012.278 6...  \n",
       "4928  POLYGON ((581958.735 6144128.616, 581954.176 6...  \n",
       "4929  POLYGON ((580316.927 6144220.583, 580290.284 6...  \n",
       "4930  POLYGON ((580693.464 6144293.601, 580698.289 6...  \n",
       "4931  POLYGON ((581535.632 6144631.485, 581456.885 6...  \n",
       "4932  POLYGON ((581177.690 6144523.283, 581701.145 6...  \n",
       "4933  POLYGON ((582828.352 6144392.194, 583712.023 6...  \n",
       "4934  POLYGON ((581620.218 6144840.666, 581541.778 6...  \n",
       "4935  POLYGON ((581303.506 6144880.234, 581518.336 6...  "
      ]
     },
     "execution_count": 14,
     "metadata": {},
     "output_type": "execute_result"
    }
   ],
   "source": [
    "manzanas_trimmed = manzanas[manzanas.CARPETA_CA == 4998.0]\n",
    "manzanas_trimmed"
   ]
  },
  {
   "cell_type": "code",
   "execution_count": 12,
   "metadata": {},
   "outputs": [
    {
     "data": {
      "text/plain": [
       "<matplotlib.axes._subplots.AxesSubplot at 0x7f1ab1d72ee0>"
      ]
     },
     "execution_count": 12,
     "metadata": {},
     "output_type": "execute_result"
    },
    {
     "data": {
      "image/png": "[encoded data removed]",
      "text/plain": [
       "<Figure size 432x288 with 1 Axes>"
      ]
     },
     "metadata": {
      "needs_background": "light"
     },
     "output_type": "display_data"
    }
   ],
   "source": [
    "# Plot map of entire dataset\n",
    "manzanas.plot()"
   ]
  },
  {
   "cell_type": "code",
   "execution_count": 15,
   "metadata": {},
   "outputs": [
    {
     "data": {
      "text/plain": [
       "<matplotlib.axes._subplots.AxesSubplot at 0x7f1ab1aa3ca0>"
      ]
     },
     "execution_count": 15,
     "metadata": {},
     "output_type": "execute_result"
    },
    {
     "data": {
      "image/png": "[encoded data removed]",
      "text/plain": [
       "<Figure size 432x288 with 1 Axes>"
      ]
     },
     "metadata": {
      "needs_background": "light"
     },
     "output_type": "display_data"
    }
   ],
   "source": [
    "# Plot map of trimmed dataset based on cadastral number 4998.0\n",
    "manzanas_trimmed.plot()"
   ]
  },
  {
   "cell_type": "code",
   "execution_count": 21,
   "metadata": {},
   "outputs": [],
   "source": [
    "# Define lat and long for Montevideo (not sure how to grab these values\n",
    "# from geometry data)\n",
    "lat = -34.90328\n",
    "long = -56.18816"
   ]
  },
  {
   "cell_type": "code",
   "execution_count": 22,
   "metadata": {},
   "outputs": [],
   "source": [
    "# Import folium module\n",
    "import folium"
   ]
  },
  {
   "cell_type": "code",
   "execution_count": 23,
   "metadata": {},
   "outputs": [
    {
     "data": {
      "text/html": [
       "<div style=\"width:100%;\"><div style=\"position:relative;width:100%;height:0;padding-bottom:60%;\"><span style=\"color:#565656\">Make this Notebook Trusted to load map: File -> Trust Notebook</span><iframe src=\"about:blank\" style=\"position:absolute;width:100%;height:100%;left:0;top:0;border:none !important;\" data-html=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 onload=\"this.contentDocument.open();this.contentDocument.write(atob(this.getAttribute('data-html')));this.contentDocument.close();\" allowfullscreen webkitallowfullscreen mozallowfullscreen></iframe></div></div>"
      ],
      "text/plain": [
       "<folium.folium.Map at 0x7fd2c908c460>"
      ]
     },
     "execution_count": 23,
     "metadata": {},
     "output_type": "execute_result"
    }
   ],
   "source": [
    "# Map folium map with lat and long coordinates for Montevideo\n",
    "m = folium.Map(location = [lat, long], zoom_start = 12)\n",
    "m"
   ]
  },
  {
   "cell_type": "code",
   "execution_count": null,
   "metadata": {},
   "outputs": [],
   "source": [
    "# For further investigation: \n",
    "# 1. How do I map geometry on the folium map?\n",
    "# 2. Can I get average coordinate data from geometry?"
   ]
  }
 ],
 "metadata": {
  "kernelspec": {
   "display_name": "Python 3",
   "language": "python",
   "name": "python3"
  },
  "language_info": {
   "codemirror_mode": {
    "name": "ipython",
    "version": 3
   },
   "file_extension": ".py",
   "mimetype": "text/x-python",
   "name": "python",
   "nbconvert_exporter": "python",
   "pygments_lexer": "ipython3",
   "version": "3.8.5"
  },
  "toc": {
   "base_numbering": 1,
   "nav_menu": {},
   "number_sections": true,
   "sideBar": true,
   "skip_h1_title": false,
   "title_cell": "Table of Contents",
   "title_sidebar": "Contents",
   "toc_cell": false,
   "toc_position": {},
   "toc_section_display": true,
   "toc_window_display": false
  }
 },
 "nbformat": 4,
 "nbformat_minor": 4
}
